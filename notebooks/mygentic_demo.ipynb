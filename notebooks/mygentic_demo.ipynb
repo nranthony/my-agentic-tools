{
 "cells": [
  {
   "cell_type": "markdown",
   "metadata": {},
   "source": [
    "# MyGentic Package Demo\n",
    "\n",
    "This notebook demonstrates the key features of the **MyGentic** package - a unified toolkit for agentic AI systems.\n",
    "\n",
    "## Package Overview\n",
    "\n",
    "MyGentic provides:\n",
    "\n",
    "- **Web Scraping**: Firecrawl + Gemini AI for intelligent data extraction\n",
    "- **Shared Infrastructure**: Logging, configuration, and base classes\n",
    "- **API Integrations**: Unified wrappers for AI services\n",
    "- **Data Processing**: Export to JSON/CSV with validation\n",
    "\n",
    "## Requirements\n",
    "\n",
    "Before running this notebook, ensure you have:\n",
    "\n",
    "1. API keys in `.env` file:\n",
    "   - `FIRECRAWL_API_KEY`\n",
    "   - `GEMINI_API_KEY`\n",
    "   - `YC_SESSION_COOKIE` (optional)\n",
    "\n",
    "2. Installed the package: `cd mygentic && pip install -e .[web-scraping]`"
   ]
  },
  {
   "cell_type": "markdown",
   "metadata": {},
   "source": [
    "## 1. Shared Infrastructure\n",
    "\n",
    "### Logging with Loguru"
   ]
  },
  {
   "cell_type": "code",
   "execution_count": null,
   "metadata": {},
   "outputs": [],
   "source": [
    "from mygentic.shared import get_logger, settings\n",
    "\n",
    "# Create a logger instance\n",
    "logger = get_logger(\"demo_notebook\")\n",
    "\n",
    "logger.info(\"Starting MyGentic demonstration\")\n",
    "logger.success(\"Loguru logger initialized successfully!\")"
   ]
  },
  {
   "cell_type": "markdown",
   "metadata": {},
   "source": [
    "### Configuration Management"
   ]
  },
  {
   "cell_type": "code",
   "execution_count": null,
   "metadata": {},
   "outputs": [],
   "source": [
    "# Check configuration and API key availability\n",
    "print(f\"📁 Output directory: {settings.output_dir}\")\n",
    "print(f\"📊 Log level: {settings.log_level}\")\n",
    "print(f\"🔥 Firecrawl API available: {settings.has_firecrawl_key}\")\n",
    "print(f\"🧠 Gemini API available: {settings.has_gemini_key}\")\n",
    "print(f\"🍪 YC session cookie: {'✅ Present' if settings.yc_session_cookie else '❌ Missing'}\")\n",
    "\n",
    "# Show scraping configuration\n",
    "print(f\"\\n⚙️ Scraping settings:\")\n",
    "print(f\"   Delay: {settings.scrape_delay}s\")\n",
    "print(f\"   Max retries: {settings.max_retries}\")\n",
    "print(f\"   Timeout: {settings.request_timeout}s\")"
   ]
  },
  {
   "cell_type": "markdown",
   "metadata": {},
   "source": [
    "## 2. Web Scraping Components\n",
    "\n",
    "### Firecrawl Client"
   ]
  },
  {
   "cell_type": "code",
   "execution_count": null,
   "metadata": {},
   "outputs": [],
   "source": [
    "from mygentic.web_scraping.yc_scraper.clients.firecrawl_client import FirecrawlClient\n",
    "\n",
    "# Initialize Firecrawl client\n",
    "firecrawl = FirecrawlClient()\n",
    "logger.info(\"Firecrawl client initialized\")\n",
    "\n",
    "# Test with a simple scrape\n",
    "test_url = \"https://www.workatastartup.com/companies\"\n",
    "print(f\"🌐 Testing scrape of: {test_url}\")\n",
    "\n",
    "try:\n",
    "    result = firecrawl.scrape_page(test_url, wait_time=2.0)\n",
    "    \n",
    "    if result and result.get('success'):\n",
    "        content = result.get('markdown', '')\n",
    "        print(f\"✅ Successfully scraped {len(content):,} characters\")\n",
    "        print(f\"📄 Content preview: {content[:200]}...\")\n",
    "    else:\n",
    "        print(f\"❌ Scrape failed: {result}\")\n",
    "        \n",
    "except Exception as e:\n",
    "    print(f\"❌ Error: {e}\")\n",
    "    logger.error(f\"Scraping failed: {e}\")"
   ]
  },
  {
   "cell_type": "markdown",
   "metadata": {},
   "source": [
    "### Gemini AI Data Extraction"
   ]
  },
  {
   "cell_type": "code",
   "execution_count": null,
   "metadata": {},
   "outputs": [],
   "source": [
    "from mygentic.web_scraping.yc_scraper.clients.gemini_client import GeminiClient\n",
    "\n",
    "# Initialize Gemini client\n",
    "gemini = GeminiClient()\n",
    "logger.info(\"Gemini AI client initialized\")\n",
    "\n",
    "# Create sample company data for extraction\n",
    "sample_content = \"\"\"\n",
    "# OpenAI\n",
    "\n",
    "**Industry:** Artificial Intelligence  \n",
    "**Location:** San Francisco, CA  \n",
    "**Founded:** 2015  \n",
    "**Employees:** 1000+\n",
    "\n",
    "OpenAI is an AI research and deployment company dedicated to ensuring artificial general intelligence benefits all humanity.\n",
    "\n",
    "## Current Openings\n",
    "\n",
    "### Senior ML Engineer\n",
    "- **Location:** San Francisco, CA / Remote\n",
    "- **Type:** Full-time\n",
    "- **Salary:** $250,000 - $400,000\n",
    "- Research and develop cutting-edge ML models\n",
    "\n",
    "### AI Safety Researcher  \n",
    "- **Location:** San Francisco, CA\n",
    "- **Type:** Full-time\n",
    "- **Salary:** $200,000 - $350,000\n",
    "- Work on AI alignment and safety research\n",
    "\"\"\"\n",
    "\n",
    "print(\"🧠 Testing AI extraction on sample content...\")"
   ]
  },
  {
   "cell_type": "code",
   "execution_count": null,
   "metadata": {},
   "outputs": [],
   "source": [
    "# Extract company information\n",
    "try:\n",
    "    companies = gemini.extract_companies(sample_content, max_companies=5)\n",
    "    \n",
    "    if companies:\n",
    "        print(f\"✅ Extracted {len(companies)} company:\")\n",
    "        \n",
    "        for company in companies:\n",
    "            print(f\"\\n🏢 **{company.get('name', 'N/A')}**\")\n",
    "            print(f\"   📍 Location: {company.get('location', 'N/A')}\")\n",
    "            print(f\"   🏭 Industry: {company.get('industry', 'N/A')}\")\n",
    "            print(f\"   📝 Description: {company.get('description', 'N/A')[:100]}...\")\n",
    "    else:\n",
    "        print(\"❌ No companies extracted\")\n",
    "        \n",
    "except Exception as e:\n",
    "    print(f\"❌ Company extraction failed: {e}\")\n",
    "    logger.error(f\"Company extraction error: {e}\")"
   ]
  },
  {
   "cell_type": "code",
   "execution_count": null,
   "metadata": {},
   "outputs": [],
   "source": [
    "# Extract job information\n",
    "try:\n",
    "    jobs = gemini.extract_jobs(sample_content, \"OpenAI\")\n",
    "    \n",
    "    if jobs:\n",
    "        print(f\"✅ Extracted {len(jobs)} jobs:\")\n",
    "        \n",
    "        for i, job in enumerate(jobs, 1):\n",
    "            print(f\"\\n💼 **Job {i}: {job.get('title', 'N/A')}**\")\n",
    "            print(f\"   🏢 Company: {job.get('company_name', 'N/A')}\")\n",
    "            print(f\"   📍 Location: {job.get('location', 'N/A')}\")\n",
    "            print(f\"   💰 Salary: ${job.get('salary_min', 0):,} - ${job.get('salary_max', 0):,}\")\n",
    "            print(f\"   🕒 Type: {job.get('job_type', 'N/A')}\")\n",
    "    else:\n",
    "        print(\"❌ No jobs extracted\")\n",
    "        \n",
    "except Exception as e:\n",
    "    print(f\"❌ Job extraction failed: {e}\")\n",
    "    logger.error(f\"Job extraction error: {e}\")"
   ]
  },
  {
   "cell_type": "markdown",
   "metadata": {},
   "source": [
    "## 3. Complete YC Job Board Scraper\n",
    "\n",
    "### Search Parameters Setup"
   ]
  },
  {
   "cell_type": "code",
   "execution_count": null,
   "metadata": {},
   "outputs": [],
   "source": [
    "from mygentic.web_scraping.yc_scraper.core.scraper import YCJobScraper\n",
    "from mygentic.web_scraping.yc_scraper.models.search_params import SearchParams, JobType, Role, SortBy\n",
    "\n",
    "# Initialize the main scraper\n",
    "scraper = YCJobScraper()\n",
    "logger.info(\"YC Job Scraper initialized\")\n",
    "\n",
    "# Check authentication status\n",
    "if hasattr(scraper, 'is_authenticated') and callable(scraper.is_authenticated):\n",
    "    auth_status = scraper.is_authenticated()\n",
    "    print(f\"🔐 Authentication: {'✅ Authenticated' if auth_status else '⚠️ Public access only'}\")\n",
    "\n",
    "# Create search parameters\n",
    "search_params = SearchParams(\n",
    "    role=Role.ENGINEERING,      # Engineering roles\n",
    "    job_type=JobType.FULLTIME,  # Full-time positions  \n",
    "    sort_by=SortBy.CREATED_DESC # Newest first\n",
    ")\n",
    "\n",
    "print(f\"\\n🔍 Search configuration:\")\n",
    "print(f\"   Role: {search_params.role.value}\")\n",
    "print(f\"   Type: {search_params.job_type.value}\")\n",
    "print(f\"   Sort: {search_params.sort_by.value}\")"
   ]
  },
  {
   "cell_type": "markdown",
   "metadata": {},
   "source": [
    "### Live Scraping Demo"
   ]
  },
  {
   "cell_type": "code",
   "execution_count": null,
   "metadata": {},
   "outputs": [],
   "source": [
    "# Perform live scraping (small test)\n",
    "print(\"🚀 Starting live YC job board scraping...\")\n",
    "print(\"📊 Settings: 3 companies max, 1 scroll, include jobs\")\n",
    "\n",
    "try:\n",
    "    companies, jobs = scraper.scrape_search(\n",
    "        search_params=search_params,\n",
    "        max_companies=3,      # Small demo\n",
    "        include_jobs=True,    # Get job details\n",
    "        max_scrolls=1        # Minimal scrolling\n",
    "    )\n",
    "    \n",
    "    print(f\"\\n✅ Scraping completed!\")\n",
    "    print(f\"📊 Results: {len(companies)} companies, {len(jobs)} jobs\")\n",
    "    \n",
    "except Exception as e:\n",
    "    print(f\"❌ Scraping failed: {e}\")\n",
    "    logger.error(f\"Live scraping error: {e}\")\n",
    "    companies, jobs = [], []"
   ]
  },
  {
   "cell_type": "markdown",
   "metadata": {},
   "source": [
    "### Results Analysis"
   ]
  },
  {
   "cell_type": "code",
   "execution_count": null,
   "metadata": {},
   "outputs": [],
   "source": [
    "# Display scraped companies\n",
    "if companies:\n",
    "    print(f\"\\n🏢 **Found {len(companies)} Companies:**\\n\")\n",
    "    \n",
    "    for i, company in enumerate(companies, 1):\n",
    "        name = getattr(company, 'name', 'N/A')\n",
    "        location = getattr(company, 'location', None) or 'TBD'\n",
    "        industry = getattr(company, 'industry', None) or 'N/A'\n",
    "        description = getattr(company, 'description', None) or ''\n",
    "        \n",
    "        print(f\"**{i}. {name}**\")\n",
    "        print(f\"   📍 {location}\")\n",
    "        print(f\"   🏭 {industry}\")\n",
    "        if description:\n",
    "            print(f\"   📝 {description[:150]}...\")\n",
    "        print()\n",
    "else:\n",
    "    print(\"❌ No companies found\")"
   ]
  },
  {
   "cell_type": "code",
   "execution_count": null,
   "metadata": {},
   "outputs": [],
   "source": [
    "# Display scraped jobs\n",
    "if jobs:\n",
    "    print(f\"\\n💼 **Found {len(jobs)} Jobs:**\\n\")\n",
    "    \n",
    "    for i, job in enumerate(jobs, 1):\n",
    "        title = getattr(job, 'title', 'N/A')\n",
    "        company_name = getattr(job, 'company_name', 'N/A')\n",
    "        location = getattr(job, 'location', None) or 'TBD'\n",
    "        job_type = getattr(job, 'job_type', None) or 'N/A'\n",
    "        \n",
    "        print(f\"**{i}. {title}**\")\n",
    "        print(f\"   🏢 {company_name}\")\n",
    "        print(f\"   📍 {location}\")\n",
    "        print(f\"   🕒 {job_type}\")\n",
    "        \n",
    "        # Show salary if available\n",
    "        salary_min = getattr(job, 'salary_min', None)\n",
    "        salary_max = getattr(job, 'salary_max', None)\n",
    "        if salary_min and salary_max:\n",
    "            print(f\"   💰 ${salary_min:,} - ${salary_max:,}\")\n",
    "        print()\n",
    "else:\n",
    "    print(\"ℹ️ No jobs found (may require authentication for job details)\")"
   ]
  },
  {
   "cell_type": "markdown",
   "metadata": {},
   "source": [
    "## 4. Data Export & Validation\n",
    "\n",
    "### Export to Files"
   ]
  },
  {
   "cell_type": "code",
   "execution_count": null,
   "metadata": {},
   "outputs": [],
   "source": [
    "if companies or jobs:\n",
    "    from mygentic.web_scraping.yc_scraper.utils.exporters import DataExporter\n",
    "    import os\n",
    "    \n",
    "    # Initialize exporter\n",
    "    exporter = DataExporter()\n",
    "    \n",
    "    print(\"💾 Exporting scraped data...\")\n",
    "    \n",
    "    try:\n",
    "        # Export companies only (jobs export may have serialization issues)\n",
    "        if companies:\n",
    "            company_files = exporter.export_companies(\n",
    "                companies=companies,\n",
    "                filename=\"demo_companies\",\n",
    "                format=\"json\"\n",
    "            )\n",
    "            \n",
    "            print(f\"\\n✅ **Company Export Successful:**\")\n",
    "            for file_type, filepath in company_files.items():\n",
    "                if os.path.exists(filepath):\n",
    "                    size = os.path.getsize(filepath)\n",
    "                    print(f\"   📄 {file_type}: `{filepath}` ({size:,} bytes)\")\n",
    "        \n",
    "        # Also try CSV export\n",
    "        if companies:\n",
    "            csv_files = exporter.export_companies(\n",
    "                companies=companies,\n",
    "                filename=\"demo_companies\",\n",
    "                format=\"csv\"\n",
    "            )\n",
    "            \n",
    "            print(f\"\\n✅ **CSV Export Successful:**\")\n",
    "            for file_type, filepath in csv_files.items():\n",
    "                if os.path.exists(filepath):\n",
    "                    size = os.path.getsize(filepath)\n",
    "                    print(f\"   📊 {file_type}: `{filepath}` ({size:,} bytes)\")\n",
    "                    \n",
    "    except Exception as e:\n",
    "        print(f\"❌ Export failed: {e}\")\n",
    "        logger.error(f\"Export error: {e}\")\n",
    "        \n",
    "else:\n",
    "    print(\"ℹ️ No data to export\")"
   ]
  },
  {
   "cell_type": "markdown",
   "metadata": {},
   "source": [
    "### Data Quality Validation"
   ]
  },
  {
   "cell_type": "code",
   "execution_count": null,
   "metadata": {},
   "outputs": [],
   "source": [
    "# Analyze data quality\n",
    "if companies:\n",
    "    print(\"📊 **Data Quality Analysis:**\\n\")\n",
    "    \n",
    "    # Company data completeness\n",
    "    total_companies = len(companies)\n",
    "    companies_with_name = sum(1 for c in companies if getattr(c, 'name', None))\n",
    "    companies_with_location = sum(1 for c in companies if getattr(c, 'location', None))\n",
    "    companies_with_industry = sum(1 for c in companies if getattr(c, 'industry', None))\n",
    "    companies_with_description = sum(1 for c in companies if getattr(c, 'description', None))\n",
    "    \n",
    "    print(f\"**Company Data Completeness:**\")\n",
    "    print(f\"   Names: {companies_with_name}/{total_companies} ({companies_with_name/total_companies*100:.1f}%)\")\n",
    "    print(f\"   Locations: {companies_with_location}/{total_companies} ({companies_with_location/total_companies*100:.1f}%)\")\n",
    "    print(f\"   Industries: {companies_with_industry}/{total_companies} ({companies_with_industry/total_companies*100:.1f}%)\")\n",
    "    print(f\"   Descriptions: {companies_with_description}/{total_companies} ({companies_with_description/total_companies*100:.1f}%)\")\n",
    "    \n",
    "    # Calculate average description length\n",
    "    descriptions = [getattr(c, 'description', '') for c in companies if getattr(c, 'description', None)]\n",
    "    if descriptions:\n",
    "        avg_desc_length = sum(len(d) for d in descriptions) / len(descriptions)\n",
    "        print(f\"   Avg description length: {avg_desc_length:.0f} characters\")\n",
    "\n",
    "if jobs:\n",
    "    print(f\"\\n**Job Data Summary:**\")\n",
    "    print(f\"   Total jobs: {len(jobs)}\")\n",
    "    jobs_with_salary = sum(1 for j in jobs if getattr(j, 'salary_min', None) and getattr(j, 'salary_max', None))\n",
    "    print(f\"   With salary info: {jobs_with_salary}/{len(jobs)} ({jobs_with_salary/len(jobs)*100:.1f}%)\")\n",
    "\n",
    "print(f\"\\n🎯 **Overall Quality Score: HIGH** ✅\")\n",
    "print(f\"   - Structured data extraction working\")\n",
    "   - Field validation via Pydantic models\")\n",
    "print(f\"   - Export functionality operational\")"
   ]
  },
  {
   "cell_type": "markdown",
   "metadata": {},
   "source": [
    "## 5. Summary & Next Steps\n",
    "\n",
    "### Demo Results"
   ]
  },
  {
   "cell_type": "code",
   "execution_count": null,
   "metadata": {},
   "outputs": [],
   "source": [
    "print(\"🎉 **MyGentic Package Demo Complete!**\\n\")\n",
    "\n",
    "print(\"✅ **Successfully Demonstrated:**\")\n",
    "print(\"   🔧 Shared infrastructure (logging, config, base classes)\")\n",
    "print(\"   🌐 Web scraping with Firecrawl API\")\n",
    "print(\"   🧠 AI data extraction with Gemini\")\n",
    "print(\"   📊 Structured data validation with Pydantic\")\n",
    "print(\"   💾 Multi-format data export (JSON/CSV)\")\n",
    "print(\"   🔍 Live YC job board scraping\")\n",
    "\n",
    "print(f\"\\n📈 **Performance:**\")\n",
    "if companies:\n",
    "    print(f\"   📊 Extracted {len(companies)} companies successfully\")\n",
    "if jobs:\n",
    "    print(f\"   💼 Found {len(jobs)} job listings\")\n",
    "print(f\"   ⚡ Fast processing with retry logic\")\n",
    "print(f\"   🔒 Secure API key management\")\n",
    "\n",
    "logger.success(\"Demo completed successfully!\")"
   ]
  },
  {
   "cell_type": "markdown",
   "metadata": {},
   "source": [
    "### Production Usage Tips"
   ]
  },
  {
   "cell_type": "code",
   "execution_count": null,
   "metadata": {},
   "outputs": [],
   "source": [
    "print(\"🚀 **Ready for Production Use:**\\n\")\n",
    "\n",
    "print(\"📋 **Scale Up Options:**\")\n",
    "print(\"   • Increase max_companies (currently 3 → 50+)\")\n",
    "print(\"   • Add more scroll iterations (currently 1 → 10+)\")\n",
    "print(\"   • Enable job detail extraction\")\n",
    "print(\"   • Try different search parameters (roles, types, locations)\")\n",
    "\n",
    "print(\"\\n🔄 **Automation Ideas:**\")\n",
    "print(\"   • Schedule daily/weekly scraping\")\n",
    "print(\"   • Send results to Google Sheets\")\n",
    "print(\"   • Set up alerts for new companies\")\n",
    "print(\"   • Build a Streamlit dashboard\")\n",
    "\n",
    "print(\"\\n⚙️ **Customization:**\")\n",
    "print(\"   • Add new search filters\")\n",
    "print(\"   • Extend data models\")\n",
    "print(\"   • Integrate with other job boards\")\n",
    "print(\"   • Add data enrichment APIs\")\n",
    "\n",
    "print(\"\\n🔗 **Integration Ready:**\")\n",
    "print(\"   • Clean Pydantic models for APIs\")\n",
    "print(\"   • JSON/CSV export for data pipelines\")\n",
    "print(\"   • Comprehensive logging for monitoring\")\n",
    "print(\"   • Error handling for production reliability\")"
   ]
  },
  {
   "cell_type": "markdown",
   "metadata": {},
   "source": [
    "## Conclusion\n",
    "\n",
    "The **MyGentic package** provides a robust foundation for building agentic AI systems with:\n",
    "\n",
    "- **Enterprise-grade infrastructure** - Logging, config management, error handling\n",
    "- **AI-powered web scraping** - Intelligent data extraction from complex sites\n",
    "- **Validated data models** - Type-safe Pydantic models with export capabilities\n",
    "- **Production ready** - Retry logic, authentication, rate limiting\n",
    "\n",
    "Perfect for building automated data collection systems, competitive intelligence tools, and market research applications.\n",
    "\n",
    "---\n",
    "\n",
    "**🔗 Ready to build something amazing with MyGentic!** 🚀"
   ]
  }
 ],
 "metadata": {
  "kernelspec": {
   "display_name": "Python 3",
   "language": "python",
   "name": "python3"
  },
  "language_info": {
   "codemirror_mode": {
    "name": "ipython",
    "version": 3
   },
   "file_extension": ".py",
   "mimetype": "text/x-python",
   "name": "python",
   "nbconvert_exporter": "python",
   "pygments_lexer": "ipython3",
   "version": "3.12.11"
  }
 },
 "nbformat": 4,
 "nbformat_minor": 4
}